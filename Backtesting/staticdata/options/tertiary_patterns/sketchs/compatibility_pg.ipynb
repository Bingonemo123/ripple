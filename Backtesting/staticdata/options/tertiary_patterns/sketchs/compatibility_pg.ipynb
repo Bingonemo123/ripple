{
 "cells": [
  {
   "cell_type": "code",
   "execution_count": 1,
   "metadata": {},
   "outputs": [],
   "source": [
    "from Backtesting.staticdata.options.tertiary_patterns.context import TertiaryController\n",
    "import numpy as np"
   ]
  },
  {
   "cell_type": "code",
   "execution_count": 2,
   "metadata": {},
   "outputs": [],
   "source": [
    "tc = TertiaryController()\n",
    "tertiary_data = np.random.choice([1, 2, 4], 372530)\n",
    "lb = tc.make_library(4, tertiary_data)\n",
    "pattern = (1, 7, 4, 4)"
   ]
  },
  {
   "cell_type": "code",
   "execution_count": 3,
   "metadata": {},
   "outputs": [
    {
     "data": {
      "text/plain": [
       "13932"
      ]
     },
     "execution_count": 3,
     "metadata": {},
     "output_type": "execute_result"
    }
   ],
   "source": [
    "tc.compatible_features_sum(lb, pattern)"
   ]
  },
  {
   "cell_type": "code",
   "execution_count": 5,
   "metadata": {},
   "outputs": [],
   "source": [
    "features = (1, 1, 1, 4)"
   ]
  },
  {
   "cell_type": "code",
   "execution_count": 6,
   "metadata": {},
   "outputs": [],
   "source": [
    "for f, p in zip(features, pattern):\n",
    "    if f & p == 0:\n",
    "        break\n",
    "else:\n",
    "    print('compatible')"
   ]
  },
  {
   "cell_type": "code",
   "execution_count": 8,
   "metadata": {},
   "outputs": [
    {
     "data": {
      "text/plain": [
       "{(1, 1, 1): 2,\n",
       " (1, 1, 2): 1,\n",
       " (1, 1, 4): 1,\n",
       " (1, 2, 1): 0,\n",
       " (1, 2, 2): 1,\n",
       " (1, 2, 4): 0,\n",
       " (1, 4, 1): 0,\n",
       " (1, 4, 2): 0,\n",
       " (1, 4, 4): 1,\n",
       " (2, 1, 1): 0,\n",
       " (2, 1, 2): 0,\n",
       " (2, 1, 4): 0,\n",
       " (2, 2, 1): 0,\n",
       " (2, 2, 2): 2,\n",
       " (2, 2, 4): 0,\n",
       " (2, 4, 1): 0,\n",
       " (2, 4, 2): 0,\n",
       " (2, 4, 4): 0,\n",
       " (4, 1, 1): 1,\n",
       " (4, 1, 2): 0,\n",
       " (4, 1, 4): 0,\n",
       " (4, 2, 1): 0,\n",
       " (4, 2, 2): 0,\n",
       " (4, 2, 4): 0,\n",
       " (4, 4, 1): 1,\n",
       " (4, 4, 2): 0,\n",
       " (4, 4, 4): 3}"
      ]
     },
     "execution_count": 8,
     "metadata": {},
     "output_type": "execute_result"
    }
   ],
   "source": [
    "tertiary_data = np.array([ 1, 1, 1, 4, 4, 4 , 4, 4, 1, 1, 1, 2, 2, 2, 2])\n",
    "lb = tc.make_library(3, tertiary_data)\n",
    "lb"
   ]
  },
  {
   "cell_type": "code",
   "execution_count": 12,
   "metadata": {},
   "outputs": [
    {
     "data": {
      "text/plain": [
       "0"
      ]
     },
     "execution_count": 12,
     "metadata": {},
     "output_type": "execute_result"
    }
   ],
   "source": [
    "tc.compatible_features_sum(lb, (0, 1, 2))"
   ]
  }
 ],
 "metadata": {
  "kernelspec": {
   "display_name": "Python 3",
   "language": "python",
   "name": "python3"
  },
  "language_info": {
   "codemirror_mode": {
    "name": "ipython",
    "version": 3
   },
   "file_extension": ".py",
   "mimetype": "text/x-python",
   "name": "python",
   "nbconvert_exporter": "python",
   "pygments_lexer": "ipython3",
   "version": "3.9.13"
  },
  "orig_nbformat": 4,
  "vscode": {
   "interpreter": {
    "hash": "969450ef89785727787b371267b46fc5923fc02dc1579716d82d0b108c7af593"
   }
  }
 },
 "nbformat": 4,
 "nbformat_minor": 2
}
