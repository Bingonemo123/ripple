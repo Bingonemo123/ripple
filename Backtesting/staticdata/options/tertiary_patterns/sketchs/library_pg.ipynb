{
 "cells": [
  {
   "cell_type": "code",
   "execution_count": 1,
   "metadata": {},
   "outputs": [],
   "source": [
    "import itertools"
   ]
  },
  {
   "cell_type": "code",
   "execution_count": 6,
   "metadata": {},
   "outputs": [],
   "source": [
    "middlegen = itertools.product(range(7), repeat=3)"
   ]
  },
  {
   "cell_type": "code",
   "execution_count": 14,
   "metadata": {},
   "outputs": [
    {
     "data": {
      "text/plain": [
       "(0, 1, 0)"
      ]
     },
     "execution_count": 14,
     "metadata": {},
     "output_type": "execute_result"
    }
   ],
   "source": [
    "next(middlegen)"
   ]
  },
  {
   "cell_type": "code",
   "execution_count": 3,
   "metadata": {},
   "outputs": [],
   "source": [
    "import numpy as np\n",
    "\n",
    "a = np.array(\n",
    "    [\n",
    "        [False, False, True, False, False, False],\n",
    "        [False, False, False, True, False, False],\n",
    "        [False, False, False, False, True, False],\n",
    "        [False, False, False, False, False, True],\n",
    "    ]\n",
    ")"
   ]
  },
  {
   "cell_type": "code",
   "execution_count": 21,
   "metadata": {},
   "outputs": [
    {
     "data": {
      "text/plain": [
       "array([False, False, False])"
      ]
     },
     "execution_count": 21,
     "metadata": {},
     "output_type": "execute_result"
    }
   ],
   "source": [
    "np.diagonal(a, 3)"
   ]
  },
  {
   "cell_type": "code",
   "execution_count": 42,
   "metadata": {},
   "outputs": [],
   "source": [
    "m = np.random.choice([1, 2, 4], 10)"
   ]
  },
  {
   "cell_type": "code",
   "execution_count": 43,
   "metadata": {},
   "outputs": [
    {
     "data": {
      "text/plain": [
       "array([2, 4, 2, 2, 4, 1, 4, 4, 1, 2])"
      ]
     },
     "execution_count": 43,
     "metadata": {},
     "output_type": "execute_result"
    }
   ],
   "source": [
    "m"
   ]
  },
  {
   "cell_type": "code",
   "execution_count": 26,
   "metadata": {},
   "outputs": [],
   "source": [
    "possibility = (4, 1, 2)"
   ]
  },
  {
   "cell_type": "code",
   "execution_count": 44,
   "metadata": {},
   "outputs": [
    {
     "data": {
      "text/plain": [
       "array([False,  True, False, False,  True, False,  True,  True, False,\n",
       "       False])"
      ]
     },
     "execution_count": 44,
     "metadata": {},
     "output_type": "execute_result"
    }
   ],
   "source": [
    "palette = (m == possibility[0])\n",
    "palette"
   ]
  },
  {
   "cell_type": "code",
   "execution_count": 45,
   "metadata": {},
   "outputs": [],
   "source": [
    "for idx, feature in enumerate(possibility[1:]):\n",
    "    palette = palette[:-1] & (m[idx + 1:] == feature)"
   ]
  },
  {
   "cell_type": "code",
   "execution_count": 46,
   "metadata": {},
   "outputs": [
    {
     "data": {
      "text/plain": [
       "array([False, False, False, False, False, False, False,  True])"
      ]
     },
     "execution_count": 46,
     "metadata": {},
     "output_type": "execute_result"
    }
   ],
   "source": [
    "palette"
   ]
  },
  {
   "cell_type": "code",
   "execution_count": 38,
   "metadata": {},
   "outputs": [
    {
     "data": {
      "text/plain": [
       "array([ True,  True])"
      ]
     },
     "execution_count": 38,
     "metadata": {},
     "output_type": "execute_result"
    }
   ],
   "source": [
    "np.array([True, False]) | np.array([True, True])"
   ]
  },
  {
   "cell_type": "code",
   "execution_count": 1,
   "metadata": {},
   "outputs": [],
   "source": [
    "from Backtesting.staticdata.options.tertiary_patterns.context import TertiaryController"
   ]
  },
  {
   "cell_type": "code",
   "execution_count": 9,
   "metadata": {},
   "outputs": [
    {
     "data": {
      "text/plain": [
       "{(1, 1, 1, 1): 4683,\n",
       " (1, 1, 1, 2): 4694,\n",
       " (1, 1, 1, 4): 4721,\n",
       " (1, 1, 2, 1): 4671,\n",
       " (1, 1, 2, 2): 4706,\n",
       " (1, 1, 2, 4): 4538,\n",
       " (1, 1, 4, 1): 4581,\n",
       " (1, 1, 4, 2): 4654,\n",
       " (1, 1, 4, 4): 4672,\n",
       " (1, 2, 1, 1): 4680,\n",
       " (1, 2, 1, 2): 4556,\n",
       " (1, 2, 1, 4): 4538,\n",
       " (1, 2, 2, 1): 4625,\n",
       " (1, 2, 2, 2): 4529,\n",
       " (1, 2, 2, 4): 4716,\n",
       " (1, 2, 4, 1): 4475,\n",
       " (1, 2, 4, 2): 4597,\n",
       " (1, 2, 4, 4): 4519,\n",
       " (1, 4, 1, 1): 4734,\n",
       " (1, 4, 1, 2): 4570,\n",
       " (1, 4, 1, 4): 4458,\n",
       " (1, 4, 2, 1): 4520,\n",
       " (1, 4, 2, 2): 4554,\n",
       " (1, 4, 2, 4): 4661,\n",
       " (1, 4, 4, 1): 4650,\n",
       " (1, 4, 4, 2): 4480,\n",
       " (1, 4, 4, 4): 4705,\n",
       " (2, 1, 1, 1): 4683,\n",
       " (2, 1, 1, 2): 4553,\n",
       " (2, 1, 1, 4): 4639,\n",
       " (2, 1, 2, 1): 4519,\n",
       " (2, 1, 2, 2): 4557,\n",
       " (2, 1, 2, 4): 4561,\n",
       " (2, 1, 4, 1): 4625,\n",
       " (2, 1, 4, 2): 4539,\n",
       " (2, 1, 4, 4): 4622,\n",
       " (2, 2, 1, 1): 4650,\n",
       " (2, 2, 1, 2): 4526,\n",
       " (2, 2, 1, 4): 4684,\n",
       " (2, 2, 2, 1): 4581,\n",
       " (2, 2, 2, 2): 4570,\n",
       " (2, 2, 2, 4): 4509,\n",
       " (2, 2, 4, 1): 4539,\n",
       " (2, 2, 4, 2): 4607,\n",
       " (2, 2, 4, 4): 4586,\n",
       " (2, 4, 1, 1): 4579,\n",
       " (2, 4, 1, 2): 4597,\n",
       " (2, 4, 1, 4): 4460,\n",
       " (2, 4, 2, 1): 4652,\n",
       " (2, 4, 2, 2): 4556,\n",
       " (2, 4, 2, 4): 4560,\n",
       " (2, 4, 4, 1): 4532,\n",
       " (2, 4, 4, 2): 4561,\n",
       " (2, 4, 4, 4): 4666,\n",
       " (4, 1, 1, 1): 4732,\n",
       " (4, 1, 1, 2): 4668,\n",
       " (4, 1, 1, 4): 4547,\n",
       " (4, 1, 2, 1): 4584,\n",
       " (4, 1, 2, 2): 4607,\n",
       " (4, 1, 2, 4): 4492,\n",
       " (4, 1, 4, 1): 4556,\n",
       " (4, 1, 4, 2): 4542,\n",
       " (4, 1, 4, 4): 4540,\n",
       " (4, 2, 1, 1): 4545,\n",
       " (4, 2, 1, 2): 4555,\n",
       " (4, 2, 1, 4): 4564,\n",
       " (4, 2, 2, 1): 4654,\n",
       " (4, 2, 2, 2): 4561,\n",
       " (4, 2, 2, 4): 4507,\n",
       " (4, 2, 4, 1): 4622,\n",
       " (4, 2, 4, 2): 4564,\n",
       " (4, 2, 4, 4): 4654,\n",
       " (4, 4, 1, 1): 4634,\n",
       " (4, 4, 1, 2): 4516,\n",
       " (4, 4, 1, 4): 4720,\n",
       " (4, 4, 2, 1): 4492,\n",
       " (4, 4, 2, 2): 4612,\n",
       " (4, 4, 2, 4): 4619,\n",
       " (4, 4, 4, 1): 4689,\n",
       " (4, 4, 4, 2): 4682,\n",
       " (4, 4, 4, 4): 4869}"
      ]
     },
     "execution_count": 9,
     "metadata": {},
     "output_type": "execute_result"
    }
   ],
   "source": [
    "tcontr = TertiaryController()\n",
    "tertiary_data = np.random.choice([1, 2, 4], 372530)\n",
    "tcontr.make_library(4, tertiary_data)"
   ]
  },
  {
   "cell_type": "code",
   "execution_count": 2,
   "metadata": {},
   "outputs": [],
   "source": [
    "import timeit"
   ]
  },
  {
   "cell_type": "code",
   "execution_count": 3,
   "metadata": {},
   "outputs": [
    {
     "data": {
      "text/plain": [
       "55.4454562"
      ]
     },
     "execution_count": 3,
     "metadata": {},
     "output_type": "execute_result"
    }
   ],
   "source": [
    "\n",
    "stp = '''\n",
    "import numpy as np\n",
    "from Backtesting.staticdata.options.tertiary_patterns.context import TertiaryController\n",
    "tcontr = TertiaryController()\n",
    "tertiary_data = np.random.choice([1, 2, 4], 372530)\n",
    "'''\n",
    "timeit.timeit('tcontr.make_library(4, tertiary_data)',\n",
    "              setup=stp\n",
    "              , number=1000)\n"
   ]
  },
  {
   "cell_type": "code",
   "execution_count": 4,
   "metadata": {},
   "outputs": [
    {
     "data": {
      "text/plain": [
       "0.0554454562"
      ]
     },
     "execution_count": 4,
     "metadata": {},
     "output_type": "execute_result"
    }
   ],
   "source": [
    "55.4454562/1000"
   ]
  },
  {
   "cell_type": "code",
   "execution_count": 11,
   "metadata": {},
   "outputs": [
    {
     "data": {
      "text/plain": [
       "array([1, 1, 4, 1, 4, 2, 1, 1, 2, 1, 4, 1, 1, 2, 1, 2, 1, 1, 2, 2])"
      ]
     },
     "execution_count": 11,
     "metadata": {},
     "output_type": "execute_result"
    }
   ],
   "source": [
    "tcontr = TertiaryController()\n",
    "tertiary_data = np.random.choice([1, 2, 4], 20)\n",
    "raw_data = np.random.random(20)\n",
    "tertiary_data"
   ]
  },
  {
   "cell_type": "code",
   "execution_count": 14,
   "metadata": {},
   "outputs": [
    {
     "data": {
      "text/plain": [
       "array([False, False, False, False, False, False,  True, False, False,\n",
       "       False, False,  True, False, False, False, False,  True, False])"
      ]
     },
     "execution_count": 14,
     "metadata": {},
     "output_type": "execute_result"
    }
   ],
   "source": [
    "features = (1, 1, 2)\n",
    "tcontr.sieve_library(tertiary_data, features)"
   ]
  },
  {
   "cell_type": "code",
   "execution_count": 20,
   "metadata": {},
   "outputs": [
    {
     "data": {
      "text/plain": [
       "array([0.01179619, 0.15170507, 0.35403271, 0.35275156, 0.24750778,\n",
       "       0.48890347, 0.01339017, 0.35083552, 0.26704599, 0.87083155,\n",
       "       0.50697597, 0.36298652, 0.57686612, 0.54085175, 0.03525464,\n",
       "       0.09327658, 0.1135149 , 0.54884779])"
      ]
     },
     "execution_count": 20,
     "metadata": {},
     "output_type": "execute_result"
    }
   ],
   "source": [
    "trunc_raw_data = raw_data[len(features)-1:]\n",
    "trunc_raw_data"
   ]
  },
  {
   "cell_type": "code",
   "execution_count": 13,
   "metadata": {},
   "outputs": [],
   "source": [
    "time_stamps = np.array( [0, 1, 5, 10, 15, 20, 30, 60, 120, 180, 240, 300, 1440, 2880])"
   ]
  },
  {
   "cell_type": "code",
   "execution_count": 29,
   "metadata": {},
   "outputs": [
    {
     "data": {
      "text/plain": [
       "(array([ 6, 11, 16], dtype=int64),)"
      ]
     },
     "execution_count": 29,
     "metadata": {},
     "output_type": "execute_result"
    }
   ],
   "source": [
    "features_idx = np.where(\n",
    "    tcontr.sieve_library(\n",
    "        tertiary_data, \n",
    "        features)\n",
    ")\n",
    "features_idx"
   ]
  },
  {
   "cell_type": "code",
   "execution_count": 82,
   "metadata": {},
   "outputs": [
    {
     "data": {
      "text/plain": [
       "array([[ 1.,  1.,  1.],\n",
       "       [ 1.,  1.,  1.],\n",
       "       [ 1.,  1., nan],\n",
       "       [ 1., nan, nan],\n",
       "       [nan, nan, nan],\n",
       "       [nan, nan, nan],\n",
       "       [nan, nan, nan],\n",
       "       [nan, nan, nan],\n",
       "       [nan, nan, nan],\n",
       "       [nan, nan, nan],\n",
       "       [nan, nan, nan],\n",
       "       [nan, nan, nan],\n",
       "       [nan, nan, nan],\n",
       "       [nan, nan, nan]])"
      ]
     },
     "execution_count": 82,
     "metadata": {},
     "output_type": "execute_result"
    }
   ],
   "source": [
    "selector = time_stamps.reshape(14, 1) + features_idx \n",
    "nanselector = np.where(selector < trunc_raw_data.size, True, np.nan)\n",
    "nanselector"
   ]
  },
  {
   "cell_type": "code",
   "execution_count": 117,
   "metadata": {},
   "outputs": [
    {
     "data": {
      "text/plain": [
       "array([[0.01339017, 0.36298652, 0.1135149 ],\n",
       "       [0.35083552, 0.57686612, 0.54884779],\n",
       "       [0.36298652, 0.1135149 , 0.54884779],\n",
       "       [0.1135149 , 0.54884779, 0.54884779],\n",
       "       [0.54884779, 0.54884779, 0.54884779],\n",
       "       [0.54884779, 0.54884779, 0.54884779],\n",
       "       [0.54884779, 0.54884779, 0.54884779],\n",
       "       [0.54884779, 0.54884779, 0.54884779],\n",
       "       [0.54884779, 0.54884779, 0.54884779],\n",
       "       [0.54884779, 0.54884779, 0.54884779],\n",
       "       [0.54884779, 0.54884779, 0.54884779],\n",
       "       [0.54884779, 0.54884779, 0.54884779],\n",
       "       [0.54884779, 0.54884779, 0.54884779],\n",
       "       [0.54884779, 0.54884779, 0.54884779]])"
      ]
     },
     "execution_count": 117,
     "metadata": {},
     "output_type": "execute_result"
    }
   ],
   "source": [
    "raw_selected = np.choose(selector, trunc_raw_data, mode='clip' )\n",
    "raw_selected"
   ]
  },
  {
   "cell_type": "code",
   "execution_count": 92,
   "metadata": {},
   "outputs": [
    {
     "data": {
      "text/plain": [
       "array([[0.01339017, 0.36298652, 0.1135149 ],\n",
       "       [0.35083552, 0.57686612, 0.54884779],\n",
       "       [0.36298652, 0.1135149 ,        nan],\n",
       "       [0.1135149 ,        nan,        nan],\n",
       "       [       nan,        nan,        nan],\n",
       "       [       nan,        nan,        nan],\n",
       "       [       nan,        nan,        nan],\n",
       "       [       nan,        nan,        nan],\n",
       "       [       nan,        nan,        nan],\n",
       "       [       nan,        nan,        nan],\n",
       "       [       nan,        nan,        nan],\n",
       "       [       nan,        nan,        nan],\n",
       "       [       nan,        nan,        nan],\n",
       "       [       nan,        nan,        nan]])"
      ]
     },
     "execution_count": 92,
     "metadata": {},
     "output_type": "execute_result"
    }
   ],
   "source": [
    "raw_nan_selected = raw_selected * nanselector\n",
    "raw_nan_selected"
   ]
  },
  {
   "cell_type": "code",
   "execution_count": 94,
   "metadata": {},
   "outputs": [
    {
     "data": {
      "text/plain": [
       "array([[ 0.        ,  0.        ,  0.        ],\n",
       "       [ 0.33744536,  0.2138796 ,  0.43533289],\n",
       "       [ 0.34959635, -0.24947161,         nan],\n",
       "       [ 0.10012474,         nan,         nan],\n",
       "       [        nan,         nan,         nan],\n",
       "       [        nan,         nan,         nan],\n",
       "       [        nan,         nan,         nan],\n",
       "       [        nan,         nan,         nan],\n",
       "       [        nan,         nan,         nan],\n",
       "       [        nan,         nan,         nan],\n",
       "       [        nan,         nan,         nan],\n",
       "       [        nan,         nan,         nan],\n",
       "       [        nan,         nan,         nan],\n",
       "       [        nan,         nan,         nan]])"
      ]
     },
     "execution_count": 94,
     "metadata": {},
     "output_type": "execute_result"
    }
   ],
   "source": [
    "diff_selected = raw_nan_selected - raw_nan_selected[0]\n",
    "diff_selected"
   ]
  },
  {
   "cell_type": "code",
   "execution_count": 118,
   "metadata": {},
   "outputs": [
    {
     "data": {
      "text/plain": [
       "array([[ 0.,  0.,  0.],\n",
       "       [ 1.,  1.,  1.],\n",
       "       [ 1.,  0., nan],\n",
       "       [ 1., nan, nan],\n",
       "       [nan, nan, nan],\n",
       "       [nan, nan, nan],\n",
       "       [nan, nan, nan],\n",
       "       [nan, nan, nan],\n",
       "       [nan, nan, nan],\n",
       "       [nan, nan, nan],\n",
       "       [nan, nan, nan],\n",
       "       [nan, nan, nan],\n",
       "       [nan, nan, nan],\n",
       "       [nan, nan, nan]])"
      ]
     },
     "execution_count": 118,
     "metadata": {},
     "output_type": "execute_result"
    }
   ],
   "source": [
    "bin_nan_selected = ((diff_selected > 0) * nanselector)\n",
    "bin_nan_selected"
   ]
  },
  {
   "cell_type": "code",
   "execution_count": 119,
   "metadata": {},
   "outputs": [
    {
     "data": {
      "text/plain": [
       "array([0, 3, 2, 3, 3, 3, 3, 3, 3, 3, 3, 3, 3, 3], dtype=int64)"
      ]
     },
     "execution_count": 119,
     "metadata": {},
     "output_type": "execute_result"
    }
   ],
   "source": [
    "np.count_nonzero(bin_nan_selected, axis=1)"
   ]
  },
  {
   "cell_type": "code",
   "execution_count": 123,
   "metadata": {},
   "outputs": [
    {
     "data": {
      "text/plain": [
       "array([3, 3, 2, 1, 0, 0, 0, 0, 0, 0, 0, 0, 0, 0], dtype=int64)"
      ]
     },
     "execution_count": 123,
     "metadata": {},
     "output_type": "execute_result"
    }
   ],
   "source": [
    "total_time_features = np.count_nonzero(~np.isnan(bin_nan_selected), axis=1)\n",
    "total_time_features"
   ]
  },
  {
   "cell_type": "code",
   "execution_count": 124,
   "metadata": {},
   "outputs": [
    {
     "data": {
      "text/plain": [
       "array([0., 3., 1., 1., 0., 0., 0., 0., 0., 0., 0., 0., 0., 0.])"
      ]
     },
     "execution_count": 124,
     "metadata": {},
     "output_type": "execute_result"
    }
   ],
   "source": [
    "total_uptrend_features = np.nansum(bin_nan_selected, axis=1)\n",
    "total_uptrend_features"
   ]
  },
  {
   "cell_type": "code",
   "execution_count": 115,
   "metadata": {},
   "outputs": [
    {
     "data": {
      "text/plain": [
       "array([[   0],\n",
       "       [   1],\n",
       "       [   5],\n",
       "       [  10],\n",
       "       [  15],\n",
       "       [  20],\n",
       "       [  30],\n",
       "       [  60],\n",
       "       [ 120],\n",
       "       [ 180],\n",
       "       [ 240],\n",
       "       [ 300],\n",
       "       [1440],\n",
       "       [2880]])"
      ]
     },
     "execution_count": 115,
     "metadata": {},
     "output_type": "execute_result"
    }
   ],
   "source": [
    "time_stamps.reshape(time_stamps.size, 1)"
   ]
  },
  {
   "cell_type": "code",
   "execution_count": 125,
   "metadata": {},
   "outputs": [
    {
     "data": {
      "text/plain": [
       "array([[0., 3., 1., 1., 0., 0., 0., 0., 0., 0., 0., 0., 0., 0.],\n",
       "       [3., 3., 2., 1., 0., 0., 0., 0., 0., 0., 0., 0., 0., 0.]])"
      ]
     },
     "execution_count": 125,
     "metadata": {},
     "output_type": "execute_result"
    }
   ],
   "source": [
    "np.array([total_uptrend_features, total_time_features])"
   ]
  },
  {
   "cell_type": "code",
   "execution_count": 25,
   "metadata": {},
   "outputs": [
    {
     "data": {
      "text/plain": [
       "array([2, 4, 1, 4, 4, 4, 4, 1, 2, 1, 4, 2, 1, 2, 2, 1, 2, 1, 4, 1])"
      ]
     },
     "execution_count": 25,
     "metadata": {},
     "output_type": "execute_result"
    }
   ],
   "source": [
    "tc = TertiaryController()\n",
    "tc.raw_m1_csv = np.random.random(20)\n",
    "tc.tertiary_m1 = tc.into_tertiles()\n",
    "tc.tertiary_m1"
   ]
  },
  {
   "cell_type": "code",
   "execution_count": 20,
   "metadata": {},
   "outputs": [],
   "source": [
    "features = ( 2, 1, 2)"
   ]
  },
  {
   "cell_type": "code",
   "execution_count": 7,
   "metadata": {},
   "outputs": [
    {
     "data": {
      "text/plain": [
       "array([[1., 2., 1., 1., 0., 0., 0., 0., 0., 0., 0., 0., 0.],\n",
       "       [3., 3., 2., 1., 0., 0., 0., 0., 0., 0., 0., 0., 0.]])"
      ]
     },
     "execution_count": 7,
     "metadata": {},
     "output_type": "execute_result"
    }
   ],
   "source": [
    "tc.extract_trends(features)"
   ]
  },
  {
   "cell_type": "code",
   "execution_count": 8,
   "metadata": {},
   "outputs": [
    {
     "data": {
      "text/plain": [
       "array([0.22855333, 0.58691452, 0.21217817, 0.43137363, 0.25888812,\n",
       "       0.33509194, 0.99403873, 0.98114596, 0.79131441, 0.56456119,\n",
       "       0.26495355, 0.48640768, 0.17861234, 0.65093559, 0.32520457,\n",
       "       0.33025767, 0.6428947 , 0.50817451, 0.74237086, 0.85023969])"
      ]
     },
     "execution_count": 8,
     "metadata": {},
     "output_type": "execute_result"
    }
   ],
   "source": [
    "tc.raw_m1_csv"
   ]
  },
  {
   "cell_type": "code",
   "execution_count": 21,
   "metadata": {},
   "outputs": [],
   "source": [
    "def extract_trends(f, rd=None, td=None):\n",
    "\n",
    "    trunc_raw_data = rd[len(f)-1:] # remove first unused bits of data from raw data\n",
    "    print('trunc_raw_data\\n', trunc_raw_data)\n",
    "    features_idx = np.where(  # find indecis of where features accure\n",
    "                    tc.sieve_library(\n",
    "                        td, \n",
    "                        f)\n",
    "                )\n",
    "    print('features_idx\\n', features_idx)\n",
    "    selector = time_stamps.reshape(\n",
    "        time_stamps.size, 1) + features_idx \n",
    "    print('selector\\n', selector)\n",
    "    nanselector = np.where(selector < trunc_raw_data.size, True, np.nan)\n",
    "    print('nanselector\\n', nanselector)\n",
    "    raw_selected = np.take(trunc_raw_data, selector, mode='clip')\n",
    "    raw_selected_choose = np.choose(selector, trunc_raw_data, mode='clip')\n",
    "    print('raw_selected\\n', raw_selected)\n",
    "    print('raw_selected_choose\\n', raw_selected_choose)\n",
    "    raw_nan_selected = raw_selected * nanselector\n",
    "    print('raw_nan_selected\\n', raw_nan_selected)\n",
    "    diff_selected = raw_nan_selected - raw_nan_selected[0]\n",
    "    print('diff_selected\\n', diff_selected)\n",
    "    bin_nan_selected = ((diff_selected > 0) * nanselector)\n",
    "    print('bin_nan_selected\\n', bin_nan_selected)\n",
    "    return np.array([\n",
    "                    np.nansum(bin_nan_selected, axis=1),\n",
    "                    np.count_nonzero(\n",
    "                            ~np.isnan(bin_nan_selected), \n",
    "                            axis=1)\n",
    "                    ])"
   ]
  },
  {
   "cell_type": "code",
   "execution_count": 26,
   "metadata": {},
   "outputs": [
    {
     "name": "stdout",
     "output_type": "stream",
     "text": [
      "trunc_raw_data\n",
      " [0.16308079 0.61020906 0.87329148 0.7638266  0.57280084 0.06444324\n",
      " 0.54914607 0.06422806 0.59899347 0.44434736 0.33654282 0.4567298\n",
      " 0.45506269 0.10571744 0.5459125  0.41083335 0.77465666 0.02749227]\n",
      "features_idx\n",
      " (array([11, 14], dtype=int64),)\n",
      "selector\n",
      " [[  11   14]\n",
      " [  12   15]\n",
      " [  16   19]\n",
      " [  21   24]\n",
      " [  26   29]\n",
      " [  31   34]\n",
      " [  41   44]\n",
      " [  71   74]\n",
      " [ 131  134]\n",
      " [ 191  194]\n",
      " [ 251  254]\n",
      " [ 311  314]\n",
      " [1451 1454]\n",
      " [2891 2894]]\n",
      "nanselector\n",
      " [[ 1.  1.]\n",
      " [ 1.  1.]\n",
      " [ 1. nan]\n",
      " [nan nan]\n",
      " [nan nan]\n",
      " [nan nan]\n",
      " [nan nan]\n",
      " [nan nan]\n",
      " [nan nan]\n",
      " [nan nan]\n",
      " [nan nan]\n",
      " [nan nan]\n",
      " [nan nan]\n",
      " [nan nan]]\n",
      "raw_selected\n",
      " [[0.4567298  0.5459125 ]\n",
      " [0.45506269 0.41083335]\n",
      " [0.77465666 0.02749227]\n",
      " [0.02749227 0.02749227]\n",
      " [0.02749227 0.02749227]\n",
      " [0.02749227 0.02749227]\n",
      " [0.02749227 0.02749227]\n",
      " [0.02749227 0.02749227]\n",
      " [0.02749227 0.02749227]\n",
      " [0.02749227 0.02749227]\n",
      " [0.02749227 0.02749227]\n",
      " [0.02749227 0.02749227]\n",
      " [0.02749227 0.02749227]\n",
      " [0.02749227 0.02749227]]\n",
      "raw_selected_choose\n",
      " [[0.4567298  0.5459125 ]\n",
      " [0.45506269 0.41083335]\n",
      " [0.77465666 0.02749227]\n",
      " [0.02749227 0.02749227]\n",
      " [0.02749227 0.02749227]\n",
      " [0.02749227 0.02749227]\n",
      " [0.02749227 0.02749227]\n",
      " [0.02749227 0.02749227]\n",
      " [0.02749227 0.02749227]\n",
      " [0.02749227 0.02749227]\n",
      " [0.02749227 0.02749227]\n",
      " [0.02749227 0.02749227]\n",
      " [0.02749227 0.02749227]\n",
      " [0.02749227 0.02749227]]\n",
      "raw_nan_selected\n",
      " [[0.4567298  0.5459125 ]\n",
      " [0.45506269 0.41083335]\n",
      " [0.77465666        nan]\n",
      " [       nan        nan]\n",
      " [       nan        nan]\n",
      " [       nan        nan]\n",
      " [       nan        nan]\n",
      " [       nan        nan]\n",
      " [       nan        nan]\n",
      " [       nan        nan]\n",
      " [       nan        nan]\n",
      " [       nan        nan]\n",
      " [       nan        nan]\n",
      " [       nan        nan]]\n",
      "diff_selected\n",
      " [[ 0.          0.        ]\n",
      " [-0.00166712 -0.13507915]\n",
      " [ 0.31792686         nan]\n",
      " [        nan         nan]\n",
      " [        nan         nan]\n",
      " [        nan         nan]\n",
      " [        nan         nan]\n",
      " [        nan         nan]\n",
      " [        nan         nan]\n",
      " [        nan         nan]\n",
      " [        nan         nan]\n",
      " [        nan         nan]\n",
      " [        nan         nan]\n",
      " [        nan         nan]]\n",
      "bin_nan_selected\n",
      " [[ 0.  0.]\n",
      " [ 0.  0.]\n",
      " [ 1. nan]\n",
      " [nan nan]\n",
      " [nan nan]\n",
      " [nan nan]\n",
      " [nan nan]\n",
      " [nan nan]\n",
      " [nan nan]\n",
      " [nan nan]\n",
      " [nan nan]\n",
      " [nan nan]\n",
      " [nan nan]\n",
      " [nan nan]]\n"
     ]
    },
    {
     "data": {
      "text/plain": [
       "array([[0., 0., 1., 0., 0., 0., 0., 0., 0., 0., 0., 0., 0., 0.],\n",
       "       [2., 2., 1., 0., 0., 0., 0., 0., 0., 0., 0., 0., 0., 0.]])"
      ]
     },
     "execution_count": 26,
     "metadata": {},
     "output_type": "execute_result"
    }
   ],
   "source": [
    "extract_trends(features, tc.raw_m1_csv, tc.tertiary_m1)"
   ]
  },
  {
   "cell_type": "code",
   "execution_count": 5,
   "metadata": {},
   "outputs": [],
   "source": [
    "import numpy as np\n",
    "from Backtesting.staticdata.options.tertiary_patterns.context import TertiaryController"
   ]
  },
  {
   "cell_type": "code",
   "execution_count": 6,
   "metadata": {},
   "outputs": [
    {
     "data": {
      "text/plain": [
       "array([2, 4, 4, ..., 4, 1, 1])"
      ]
     },
     "execution_count": 6,
     "metadata": {},
     "output_type": "execute_result"
    }
   ],
   "source": [
    "tc = TertiaryController()\n",
    "tc.load_random(17000)"
   ]
  },
  {
   "cell_type": "code",
   "execution_count": 7,
   "metadata": {},
   "outputs": [
    {
     "data": {
      "text/plain": [
       "{(1,): array([[   0., 4706., 4699., 4694., 4665., 4713., 4753., 4741., 4664.,\n",
       "         4673., 4641., 4638., 4364., 3933.],\n",
       "        [5667., 5666., 5665., 5664., 5663., 5661., 5658., 5648., 5624.,\n",
       "         5603., 5582., 5566., 5183., 4706.]]),\n",
       " (2,): array([[   0., 2800., 2845., 2816., 2854., 2821., 2853., 2813., 2808.,\n",
       "         2801., 2784., 2750., 2601., 2383.],\n",
       "        [5666., 5666., 5666., 5664., 5663., 5662., 5659., 5646., 5627.,\n",
       "         5607., 5591., 5566., 5190., 4704.]]),\n",
       " (4,): array([[   0.,  955.,  904.,  927.,  974.,  938.,  932.,  965.,  919.,\n",
       "          924.,  922.,  949.,  859.,  790.],\n",
       "        [5667., 5667., 5664., 5662., 5659., 5657., 5653., 5646., 5629.,\n",
       "         5610., 5587., 5568., 5187., 4710.]])}"
      ]
     },
     "execution_count": 7,
     "metadata": {},
     "output_type": "execute_result"
    }
   ],
   "source": [
    "tc.make_trend_lib(1)"
   ]
  },
  {
   "cell_type": "code",
   "execution_count": 8,
   "metadata": {},
   "outputs": [
    {
     "data": {
      "text/plain": [
       "True"
      ]
     },
     "execution_count": 8,
     "metadata": {},
     "output_type": "execute_result"
    }
   ],
   "source": [
    "tc.iscompatible((1,4,4), (1, 4, 4))"
   ]
  },
  {
   "cell_type": "code",
   "execution_count": 24,
   "metadata": {},
   "outputs": [],
   "source": [
    "a = np.array([[0., 0., 1., 1., 0., 0., 0., 0., 0., 34., 0., 0., 0., 0.],\n",
    "              [1., 1., 1., 1., 0., 0., 0., 0., 0., 64., 0., 0., 0., 0.]])\n",
    "\n",
    "b = np.array([[0., 0., 1., 1., 0., 0., 0., 0., 0., 4., 0., 0., 0., 0.],\n",
    "              [1., 1., 1., 1., 0., 0., 0., 0., 0., 11., 0., 0., 0., 0.]])"
   ]
  },
  {
   "cell_type": "code",
   "execution_count": 25,
   "metadata": {},
   "outputs": [
    {
     "data": {
      "text/plain": [
       "array([[ 0.,  0.,  2.,  2.,  0.,  0.,  0.,  0.,  0., 38.,  0.,  0.,  0.,\n",
       "         0.],\n",
       "       [ 2.,  2.,  2.,  2.,  0.,  0.,  0.,  0.,  0., 75.,  0.,  0.,  0.,\n",
       "         0.]])"
      ]
     },
     "execution_count": 25,
     "metadata": {},
     "output_type": "execute_result"
    }
   ],
   "source": [
    "a += b\n",
    "a"
   ]
  },
  {
   "cell_type": "code",
   "execution_count": 18,
   "metadata": {},
   "outputs": [
    {
     "data": {
      "text/plain": [
       "array([[0., 0., 0., 0., 0., 0., 0., 0., 0., 0., 0., 0., 0., 0.],\n",
       "       [0., 0., 0., 0., 0., 0., 0., 0., 0., 0., 0., 0., 0., 0.]])"
      ]
     },
     "execution_count": 18,
     "metadata": {},
     "output_type": "execute_result"
    }
   ],
   "source": [
    "np.zeros((2, time_stamps.size))"
   ]
  },
  {
   "cell_type": "code",
   "execution_count": 19,
   "metadata": {},
   "outputs": [
    {
     "data": {
      "text/plain": [
       "array([0.89934513, 0.21695749, 0.23856967, 0.23856967, 0.47622442,\n",
       "       0.05089272, 0.89934513, 0.14090473, 0.86982321, 0.85076915,\n",
       "       0.14090473, 0.25147145, 0.44612227, 0.14374696, 0.25147145,\n",
       "       0.88867929, 0.47622442, 0.39870113, 0.98929408, 0.21695749,\n",
       "       0.89934513, 0.00693754, 0.70530529, 0.14535839, 0.14090473,\n",
       "       0.98929408, 0.14374696, 0.23856967, 0.22385932, 0.54903833,\n",
       "       0.00693754, 0.89934513, 0.14374696, 0.88867929, 0.0188182 ,\n",
       "       0.47622442, 0.22385932, 0.89934513, 0.42520112, 0.44612227,\n",
       "       0.00693754, 0.45429886, 0.98929408, 0.44612227, 0.25147145,\n",
       "       0.05089272, 0.44612227, 0.7549312 , 0.16963963, 0.98929408,\n",
       "       0.00693754, 0.25147145, 0.89934513, 0.89934513, 0.44612227,\n",
       "       0.31451409, 0.86982321, 0.25147145, 0.05089272, 0.99703603,\n",
       "       0.86982321, 0.99469374, 0.05089272, 0.44612227, 0.99469374,\n",
       "       0.09009502, 0.05089272, 0.31451409, 0.39870113, 0.86982321,\n",
       "       0.14090473, 0.85076915, 0.01924369, 0.16963963, 0.59765863,\n",
       "       0.45429886, 0.0188182 , 0.01924369, 0.14535839, 0.16963963,\n",
       "       0.54903833, 0.14374696, 0.0188182 , 0.54903833, 0.59765863,\n",
       "       0.88867929, 0.98929408, 0.22385932, 0.88867929, 0.98929408,\n",
       "       0.7549312 , 0.7549312 , 0.16963963, 0.21695749, 0.22385932,\n",
       "       0.25147145, 0.99703603, 0.09009502, 0.98929408, 0.7549312 ])"
      ]
     },
     "execution_count": 19,
     "metadata": {},
     "output_type": "execute_result"
    }
   ],
   "source": [
    "np.choose(np.random.randint(0, 31, 100) , np.random.random(31))"
   ]
  },
  {
   "cell_type": "code",
   "execution_count": 24,
   "metadata": {},
   "outputs": [],
   "source": [
    "selector = np.array([[ 1,3 ,   9],\n",
    " [   2  ,  4 ,  10],\n",
    " [   6  ,  8,   14],\n",
    " [  11  , 13,   19],\n",
    " [  16,   18,   24],\n",
    " [  21 ,  23 ,  29],\n",
    " [  31,   33 ,  39],\n",
    " [  61 ,  63  , 69],\n",
    " [ 121,  123 , 129],\n",
    " [ 181 , 183 , 189],\n",
    " [ 241 , 243,  249],\n",
    " [ 301,  303  ,309],\n",
    " [1441,1443, 1449],\n",
    " [2881, 2883 ,2889]])"
   ]
  }
 ],
 "metadata": {
  "kernelspec": {
   "display_name": "Python 3",
   "language": "python",
   "name": "python3"
  },
  "language_info": {
   "codemirror_mode": {
    "name": "ipython",
    "version": 3
   },
   "file_extension": ".py",
   "mimetype": "text/x-python",
   "name": "python",
   "nbconvert_exporter": "python",
   "pygments_lexer": "ipython3",
   "version": "3.9.13"
  },
  "orig_nbformat": 4,
  "vscode": {
   "interpreter": {
    "hash": "969450ef89785727787b371267b46fc5923fc02dc1579716d82d0b108c7af593"
   }
  }
 },
 "nbformat": 4,
 "nbformat_minor": 2
}
