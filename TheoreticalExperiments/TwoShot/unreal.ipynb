{
 "cells": [
  {
   "cell_type": "code",
   "execution_count": 1,
   "metadata": {},
   "outputs": [],
   "source": [
    "import numpy as np\n",
    "import pandas as pd\n",
    "import plotly.graph_objects as go\n"
   ]
  },
  {
   "cell_type": "code",
   "execution_count": 2,
   "metadata": {},
   "outputs": [],
   "source": [
    "start_price = 1.1904\n",
    "D = start_price + np.random.normal(scale=0.00018, size=24000).cumsum()"
   ]
  },
  {
   "cell_type": "code",
   "execution_count": 4,
   "metadata": {},
   "outputs": [
    {
     "name": "stdout",
     "output_type": "stream",
     "text": [
      "win = 975 \n",
      "lose = 3017\n",
      "tie = 0\n",
      "p_lose = 3015\n",
      "d_win = 993\n"
     ]
    }
   ],
   "source": [
    "# Do nothing if First bid incorrect\n",
    "selected = []\n",
    "win = 0\n",
    "lose = 0\n",
    "tie = 0\n",
    "p_lose = 0\n",
    "d_win = 0\n",
    "for x in D:\n",
    "    if len(selected) == 0:\n",
    "        selected = [x]\n",
    "        b = np.random.choice([True, False])\n",
    "    elif len(selected) == 1:\n",
    "        if not ((x > selected[0]) ^ b) :\n",
    "            selected.append( x)\n",
    "        else:\n",
    "            selected.append(None)\n",
    "    elif len(selected ) == 2:\n",
    "        if selected[1] == None:\n",
    "            if not ((x > selected[0]) ^ b ):\n",
    "                win += 1\n",
    "            elif selected[0] == x:\n",
    "                tie += 1\n",
    "            else:\n",
    "                lose += 1\n",
    "        else:\n",
    "            if selected[1] == x:\n",
    "                tie += 1\n",
    "            elif selected[0] == x:\n",
    "                tie += 1\n",
    "            elif not ((x > selected[1]) ^ (x > selected[0])):\n",
    "                p_lose += 1\n",
    "            elif ((x > selected[1]) ^ (x > selected[0])) and ((x > selected[1]) ^ b):\n",
    "                d_win += 1\n",
    "        selected = []\n",
    "\n",
    "print(f\"\"\"win = {win} \n",
    "lose = {lose}\n",
    "tie = {tie}\n",
    "p_lose = {p_lose}\n",
    "d_win = {d_win}\"\"\")"
   ]
  },
  {
   "cell_type": "code",
   "execution_count": 7,
   "metadata": {},
   "outputs": [
    {
     "name": "stdout",
     "output_type": "stream",
     "text": [
      "\n",
      "1961\n",
      "6039\n",
      "\n"
     ]
    }
   ],
   "source": [
    "#debug\n",
    "between = 0\n",
    "out = 0\n",
    "for x in range(2, len(D), 3):\n",
    "    if not ((D[x-2] < D[x] ) ^ (D[x-1] > D[x])):\n",
    "        between += 1\n",
    "    else:\n",
    "        out += 1\n",
    "\n",
    "print(f\"\"\"\n",
    "{between}\n",
    "{out}\n",
    "\"\"\")"
   ]
  },
  {
   "cell_type": "code",
   "execution_count": null,
   "metadata": {},
   "outputs": [
    {
     "data": {
      "text/plain": [
       "True"
      ]
     },
     "execution_count": 1,
     "metadata": {},
     "output_type": "execute_result"
    }
   ],
   "source": [
    "True ^ False"
   ]
  }
 ],
 "metadata": {
  "kernelspec": {
   "display_name": "Python 3.10.7 64-bit",
   "language": "python",
   "name": "python3"
  },
  "language_info": {
   "codemirror_mode": {
    "name": "ipython",
    "version": 3
   },
   "file_extension": ".py",
   "mimetype": "text/x-python",
   "name": "python",
   "nbconvert_exporter": "python",
   "pygments_lexer": "ipython3",
   "version": "3.10.7"
  },
  "orig_nbformat": 4,
  "vscode": {
   "interpreter": {
    "hash": "369f2c481f4da34e4445cda3fffd2e751bd1c4d706f27375911949ba6bb62e1c"
   }
  }
 },
 "nbformat": 4,
 "nbformat_minor": 2
}
