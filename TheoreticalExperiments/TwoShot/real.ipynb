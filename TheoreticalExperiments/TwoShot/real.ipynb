{
 "cells": [
  {
   "cell_type": "markdown",
   "metadata": {},
   "source": [
    "# Check Trends On Real DATA "
   ]
  },
  {
   "cell_type": "code",
   "execution_count": 1,
   "metadata": {},
   "outputs": [],
   "source": [
    "import numpy as np\n",
    "import sympy as sp"
   ]
  },
  {
   "cell_type": "code",
   "execution_count": 2,
   "metadata": {},
   "outputs": [
    {
     "name": "stdout",
     "output_type": "stream",
     "text": [
      "['↓↓↓', '↓*↓↓', '↓↓*↓', '↓↓↓↓', '↓**↓↓', '↓*↓*↓', '↓*↓↓↓', '↓↓**↓', '↓↓*↓↓', '↓↓↓*↓', '↓↓↓↓*', '↓↓↓↓↓', '↓***↓↓', '↓**↓*↓', '↓**↓↓↓', '↓*↓*↓↓', '↓*↓↓*↓', '↓*↓↓↓*', '↓*↓↓↓↓', '↓↓**↓↓', '↓↓*↓*↓', '↓↓*↓↓*', '↓↓*↓↓↓', '↓↓↓**↓', '↓↓↓*↓↓', '↓↓↓↓*↓', '↓↓↓↓↓*', '↓↓↓↓↓↓', '↓****↓↓', '↓***↓*↓', '↓***↓↓↓', '↓**↓**↓', '↓**↓*↓↓', '↓**↓↑↓↓', '↓**↓↓*↓', '↓**↓↓↓*', '↓**↓↓↓↓', '↑*↑↓↓↑↓', '↓*↓***↓', '↓*↓**↓↓', '↓*↓*↓*↓', '↓*↓*↓↓*', '↓*↓*↓↓↓', '↓*↓↓**↓', '↓*↓↓*↓*', '↓*↓↓*↓↓', '↓*↓↓↑*↓', '↓*↓↓↑↓↓', '↓*↓↓↓**', '↓*↓↓↓*↓', '↓*↓↓↓↓*', '↓*↓↓↓↓↓', '↓↑*↓↑*↓', '↓↑*↓↑↓↓', '↓↑↑*↑↑↓', '↓↑↑↑↓↓↓', '↓↑↑↓↑↑↓', '↑↑↑↓↓*↓', '↑↑↑↓↓↓↓', '↓↑↓**↓↓', '↓↑↓*↓↓↓', '↓↑↓↓**↓', '↓↑↓↓*↓↓', '↓↑↓↓↑*↓', '↓↑↓↓↑↓↓', '↓↑↓↓↓*↓', '↓↑↓↓↓↑↓', '↓↑↓↓↓↓↓', '↓↓***↓↓', '↓↓**↓*↓', '↓↓**↓↓*', '↓↓**↓↓↓', '↓↓*↓**↓', '↓↓*↓*↓*', '↓↓*↓*↓↓', '↓↓*↓↑↓↓', '↓↓*↓↓*↓', '↓↓*↓↓↓*', '↓↓*↓↓↓↓', '↑↓↑*↓↑↓', '↑↓↑↓↓↑↓', '↓↓↓***↓', '↓↓↓**↓*', '↓↓↓**↓↓', '↓↓↓*↓**', '↓↓↓*↓*↓', '↓↓↓*↓↓*', '↑↓↓*↓↓↓', '↓↓↓*↓↓↓', '↓↓↓↑↓*↓', '↓↓↓↑↓↓↓', '↓↓↓↓**↓', '↓↓↓↓*↓*', '↓↓↓↓*↓↓', '↓↓↓↓↑↓↓', '↓↓↓↓↓**', '↓↓↓↓↓*↓', '↓↓↓↓↓↓*', '↑↓↓↓↓↓↓', '↓↓↓↓↓↓↓', '↓*****↓↓', '↓****↓↓↓', '↓***↓*↓↓', '↓***↓↓*↓', '↓***↓↓↓↓', '↓**↑↓↑↓↓', '↓**↓**↓↓', '↓**↓*↓*↓', '↑**↓*↓↓↓', '↓**↓*↓↓↓', '↓**↓↓**↓', '↑**↓↓*↓↓', '↓**↓↓*↓↓', '↑**↓↓↓*↓', '↓**↓↓↓*↓', '↓**↓↓↓↓*', '↑**↓↓↓↓↓', '↓**↓↓↓↓↓', '↑*↑↑↑↓↓↓', '↓*↑↑↓↑↓↓', '↓*↑↓↓↓↓↓', '↓*↓***↓↓', '↓*↓**↓*↓', '↓*↓**↓↓↓', '↓*↓*↑↓*↓', '↓*↓*↑↓↑↓', '↓*↓*↑↓↓↓', '↓*↓*↓**↓', '↓*↓*↓*↓↓', '↓*↓*↓↓*↓', '↓*↓*↓↓↓*', '↑*↓*↓↓↓↓', '↓*↓*↓↓↓↓', '↓*↓↑↓*↓↓', '↓*↓↑↓↑↓↓', '↑*↓↑↓↓↑↓', '↓*↓↑↓↓↓↓', '↓*↓↓***↓', '↓*↓↓**↓↓', '↑*↓↓*↓*↓', '↓*↓↓*↓*↓', '↓*↓↓*↓↓*', '↑*↓↓*↓↓↓', '↓*↓↓*↓↓↓', '↓*↓↓↑*↓↓', '↓*↓↓↑↓*↓', '↓*↓↓↑↓↑↓', '↓*↓↓↑↓↓↓', '↓*↓↓↓**↓', '↓*↓↓↓*↓*', '↑*↓↓↓*↓↓', '↓*↓↓↓*↓↓', '↓*↓↓↓↓**', '↑*↓↓↓↓*↓', '↓*↓↓↓↓*↓', '↑*↓↓↓↓↓*', '↓*↓↓↓↓↓*', '↑*↓↓↓↓↓↓', '↓*↓↓↓↓↓↓', '↑↑*↑*↓↑↓', '↑↑*↑↓↓↑↓', '↑↑↑↑*↓↑↓', '↓↑↑↑↑*↓↑', '↓↑↑↑↑↑↓↑', '↑↑↑↑↑↓↑↓', '↓↑↑↑↑↓↓↑', '↓↑↑↑↓*↓↓', '↓↑↑↑↓↓*↓', '↓↑↑↑↓↓↓↓', '↑↑↑↓↑↑↑↓', '↑↑↑↓↑↓↓↓', '↑↑↓*↑↓↓↑', '↑↑↓↑*↓↑↓', '↓↑↓↑↑↓↑↓', '↑↑↓↑↑↓↓↑', '↑↑↓↑↓*↑↓', '↓↑↓↑↓↑↓↓', '↑↑↓↑↓↓↑↓', '↓↑↓↓*↓↓↓', '↑↑↓↓↑↓↑↓', '↓↑↓↓↑↓↓↓', '↑↑↓↓↓↓↓↓', '↓↑↓↓↓↓↓↓', '↓↓*****↓', '↓↓****↓↓', '↓↓***↓*↓', '↓↓***↓↓↓', '↓↓**↓**↓', '↑↓**↓*↓↓', '↓↓**↓*↓↓', '↓↓**↓↑*↓', '↑↓**↓↑↓↓', '↓↓**↓↑↓↓', '↑↓**↓↓*↓', '↓↓**↓↓*↓', '↓↓**↓↓↓*', '↑↓**↓↓↓↓', '↓↓**↓↓↓↓', '↑↓*↑↑↑↓↓', '↓↓*↑↓↑*↓', '↓↓*↑↓↑↑↓', '↓↓*↑↓↑↓↓', '↓↓*↓***↓', '↑↓*↓**↓↓', '↓↓*↓**↓↓', '↑↓*↓*↓*↓', '↓↓*↓*↓*↓', '↓↓*↓*↓↓*', '↑↓*↓*↓↓↓', '↓↓*↓*↓↓↓', '↓↓*↓↑↓*↓', '↓↓*↓↑↓↓↓', '↑↓*↓↓**↓', '↓↓*↓↓**↓', '↓↓*↓↓*↓*', '↑↓*↓↓*↓↓', '↓↓*↓↓*↓↓', '↑↓*↓↓↑*↓', '↑↓*↓↓↑↓↓', '↓↓*↓↓↑↓↓', '↓↓*↓↓↓**', '↑↓*↓↓↓*↓', '↓↓*↓↓↓*↓', '↑↓*↓↓↓↑↓', '↑↓*↓↓↓↓*', '↓↓*↓↓↓↓*', '↑↓*↓↓↓↓↓', '↓↓*↓↓↓↓↓', '↓↓↑*↑↓↑↑', '↑↓↑*↑↓↓↓', '↑↓↑*↓↑*↓', '↓↓↑*↓↑*↓', '↑↓↑*↓↑↓↓', '↓↓↑*↓↑↓↓', '↓↓↑↑*↑↑↓', '↑↓↑↑*↓↓↓', '↑↓↑↑↑**↓', '↑↓↑↑↑*↓↓', '↑↓↑↑↑↑*↓', '↓↓↑↑↑↑↑↓', '↑↓↑↑↑↑↓↓', '↑↓↑↑↑↓*↓', '↑↓↑↑↑↓↓↓', '↓↓↑↑↓↑*↓', '↑↓↑↑↓↑↑↓', '↓↓↑↑↓↑↑↓', '↓↓↑↑↓↑↓↓', '↓↓↑↓**↓↓', '↑↓↑↓*↑↓↓', '↑↓↑↓*↓↑↓', '↓↓↑↓*↓↓↓', '↓↓↑↓↑*↑↑', '↓↓↑↓↑↓↑↑', '↑↓↑↓↑↓↑↓', '↑↓↑↓↓**↓', '↓↓↑↓↓**↓', '↑↓↑↓↓*↑↓', '↑↓↑↓↓*↓↓', '↓↓↑↓↓*↓↓', '↑↓↑↓↓↑*↓', '↑↓↑↓↓↑↓*', '↑↓↑↓↓↑↓↓', '↓↓↑↓↓↑↓↓', '↑↓↑↓↓↓*↓', '↓↓↑↓↓↓*↓', '↑↓↑↓↓↓↑↓', '↓↓↑↓↓↓↑↓', '↑↓↑↓↓↓↓↓', '↓↓↑↓↓↓↓↓', '↓↓↓****↓', '↓↓↓***↓↓', '↓↓↓**↓*↓', '↓↓↓**↓↓*', '↓↓↓**↓↓↓', '↓↓↓*↑↓*↓', '↓↓↓*↑↓↑↓', '↓↓↓*↑↓↓↓', '↓↓↓*↓**↓', '↓↓↓*↓*↓*', '↑↓↓*↓*↓↓', '↓↓↓*↓*↓↓', '↓↓↓*↓↑*↓', '↓↓↓*↓↑↑↓', '↓↓↓*↓↑↓↓', '↓↓↓*↓↓**', '↑↓↓*↓↓*↓', '↓↓↓*↓↓*↓', '↓↓↓*↓↓↓*', '↑↓↓*↓↓↓↓', '↓↓↓*↓↓↓↓', '↓↓↓↑**↓↓', '↓↓↓↑*↓↓↓', '↑↓↓↑↑↑↓↓', '↓↓↓↑↓*↓↓', '↓↓↓↑↓↑*↓', '↓↓↓↑↓↑↓↓', '↓↓↓↑↓↓↓↓', '↓↓↓↓***↓', '↓↓↓↓**↓*', '↑↓↓↓**↓↓', '↓↓↓↓**↓↓', '↓↓↓↓*↓**', '↑↓↓↓*↓*↓', '↓↓↓↓*↓*↓', '↓↓↓↓*↓↓*', '↑↓↓↓*↓↓↓', '↓↓↓↓*↓↓↓', '↓↓↓↓↑**↓', '↓↓↓↓↑*↓↓', '↓↓↓↓↑↓*↓', '↓↓↓↓↑↓↑↓', '↓↓↓↓↑↓↓↓', '↓↓↓↓↓***', '↑↓↓↓↓**↓', '↓↓↓↓↓**↓', '↑↓↓↓↓*↓*', '↓↓↓↓↓*↓*', '↑↓↓↓↓*↓↓', '↓↓↓↓↓*↓↓', '↓↓↓↓↓↑*↓', '↓↓↓↓↓↑↑↓', '↑↓↓↓↓↑↓↓', '↓↓↓↓↓↑↓↓', '↓↓↓↓↓↓**', '↑↓↓↓↓↓*↓', '↓↓↓↓↓↓*↓', '↑↓↓↓↓↓↓*', '↓↓↓↓↓↓↓*', '↑↓↓↓↓↓↓↓', '↓↓↓↓↓↓↓↓']\n"
     ]
    }
   ],
   "source": [
    "# Open Trends Data\n",
    "TrendLib = []\n",
    "with open(r\"C:\\Users\\MSI\\Downloads\\c.log\", \"r+\", encoding=\"utf-8\") as file:\n",
    "    for x in file.readlines():\n",
    "        for ch in range(len(x)):\n",
    "            if x[ch] == \" \":\n",
    "                TrendLib.append(x[:ch -2])\n",
    "                break\n",
    "\n",
    "\n",
    "print(TrendLib)\n"
   ]
  },
  {
   "cell_type": "code",
   "execution_count": 3,
   "metadata": {},
   "outputs": [
    {
     "name": "stdout",
     "output_type": "stream",
     "text": [
      "1.  ['0.990500' '0.990500' '0.990490' ... '1.032340' '1.032340' '1.032350'],\n",
      "2. [False False False ... False False  True]\n",
      "3. ['0.990500' '0.990500' '0.990490' '0.990490' '0.990460' '0.990440'\n",
      " '0.990450' '0.990450' '0.990440' '0.990440']\n",
      "4. False\n",
      "\n"
     ]
    },
    {
     "name": "stderr",
     "output_type": "stream",
     "text": [
      "C:\\Users\\MSI\\AppData\\Local\\Temp\\ipykernel_27000\\3326298328.py:14: DeprecationWarning: In future, it will be an error for 'np.bool_' scalars to be interpreted as an index\n",
      "  if ChrTF != \"↓↑\"[TFPastData[-1-num]]:\n"
     ]
    }
   ],
   "source": [
    "# Preloads and Prerequirments - setting up\n",
    "fx = np.loadtxt(r\"C:\\Users\\MSI\\Downloads\\HISTDATA_COM_NT_EURUSD_T_BID202211 (1)\\DAT_NT_EURUSD_T_BID_202211.csv\", delimiter=\";\", dtype=str)\n",
    "fx = fx[:, 1]\n",
    "TFfx = fx[:-1] < fx[1:]\n",
    "\n",
    "\n",
    "def DECISIONMAKER (PastData):\n",
    "    TFPastData = TFfx[:len(PastData) - 1]\n",
    "    for trend in TrendLib:\n",
    "        if len(trend) > len(TFPastData):\n",
    "            continue\n",
    "        for (num, ChrTF) in zip(range(len(trend)), reversed(trend)):\n",
    "            if ChrTF == \"*\":\n",
    "                continue\n",
    "            if ChrTF != \"↓↑\"[TFPastData[-1-num]]: \n",
    "                break\n",
    "        else:\n",
    "            return False\n",
    "            \n",
    "    return None"
   ]
  },
  {
   "cell_type": "code",
   "execution_count": 7,
   "metadata": {},
   "outputs": [
    {
     "name": "stderr",
     "output_type": "stream",
     "text": [
      "C:\\Users\\MSI\\AppData\\Local\\Temp\\ipykernel_27000\\3326298328.py:14: DeprecationWarning: In future, it will be an error for 'np.bool_' scalars to be interpreted as an index\n",
      "  if ChrTF != \"↓↑\"[TFPastData[-1-num]]:\n"
     ]
    },
    {
     "name": "stdout",
     "output_type": "stream",
     "text": [
      "win = 154353 \n",
      "lose = 93441\n",
      "tie = 0\n"
     ]
    }
   ],
   "source": [
    "# One Time Bid - No Second Rebound\n",
    "SELECTED = []\n",
    "WIN = 0\n",
    "LOSE = 0\n",
    "TIE = 0\n",
    "LEVEL = 0\n",
    "\n",
    "for CurrentPriceIndex in range(len(fx)):\n",
    "    if LEVEL == 0:\n",
    "        PROPHET = DECISIONMAKER(fx[:CurrentPriceIndex + 1])\n",
    "        if PROPHET is None:\n",
    "            continue\n",
    "        LEVEL += 1\n",
    "    elif LEVEL == 1:\n",
    "        SELECTED.append(fx[CurrentPriceIndex])\n",
    "        LEVEL += 1\n",
    "    elif LEVEL == 2:\n",
    "        if not ((fx[CurrentPriceIndex] > SELECTED[0]) ^ PROPHET):\n",
    "            WIN += 1\n",
    "        elif SELECTED[0] == fx[CurrentPriceIndex]:\n",
    "            TIE += 1\n",
    "        else:\n",
    "            LOSE += 1\n",
    "        SELECTED = []\n",
    "        LEVEL = 0\n",
    "\n",
    "print(f\"\"\"win = {WIN} \n",
    "lose = {LOSE}\n",
    "tie = {TIE}\"\"\")\n"
   ]
  },
  {
   "cell_type": "code",
   "execution_count": 4,
   "metadata": {},
   "outputs": [
    {
     "name": "stderr",
     "output_type": "stream",
     "text": [
      "C:\\Users\\MSI\\AppData\\Local\\Temp\\ipykernel_27000\\3326298328.py:14: DeprecationWarning: In future, it will be an error for 'np.bool_' scalars to be interpreted as an index\n",
      "  if ChrTF != \"↓↑\"[TFPastData[-1-num]]:\n"
     ]
    },
    {
     "name": "stdout",
     "output_type": "stream",
     "text": [
      "win = 24631 \n",
      "lose = 69244\n",
      "tie = 50986\n",
      "p_lose = 89911\n",
      "d_win = 13022\n"
     ]
    }
   ],
   "source": [
    "# Do nothing if First Bid changes direction\n",
    "SELECTED = []\n",
    "WIN = 0\n",
    "LOSE = 0\n",
    "TIE = 0\n",
    "P_LOSE = 0\n",
    "D_WIN = 0\n",
    "\n",
    "for CurrentPriceIndex in range(len(fx)):\n",
    "    if len(SELECTED) == 0:\n",
    "        PROPHET = DECISIONMAKER(fx[:CurrentPriceIndex + 1])\n",
    "        if PROPHET is None:\n",
    "            continue\n",
    "        SELECTED.append(fx[CurrentPriceIndex])\n",
    "    elif len(SELECTED) == 1:\n",
    "        if not ((fx[CurrentPriceIndex] > SELECTED[0]) ^ PROPHET):\n",
    "            SELECTED.append(fx[CurrentPriceIndex])\n",
    "        else:\n",
    "            SELECTED.append(None)\n",
    "    elif len(SELECTED) == 2:\n",
    "        if SELECTED[1] == None:\n",
    "            if not ((fx[CurrentPriceIndex] > SELECTED[0]) ^ PROPHET):\n",
    "                WIN += 1\n",
    "            elif SELECTED[0] == fx[CurrentPriceIndex]:\n",
    "                TIE += 1\n",
    "            else:\n",
    "                LOSE += 1\n",
    "        else:\n",
    "            if SELECTED[1] == fx[CurrentPriceIndex]:\n",
    "                TIE += 1\n",
    "            elif SELECTED[0] == fx[CurrentPriceIndex]:\n",
    "                TIE += 1\n",
    "            elif not (( fx[CurrentPriceIndex] > SELECTED[1]) ^ \n",
    "                        ( fx[CurrentPriceIndex] > SELECTED[0])):\n",
    "                P_LOSE += 1\n",
    "            elif (( fx[CurrentPriceIndex] > SELECTED[1]) ^ \n",
    "                        ( fx[CurrentPriceIndex] > \n",
    "                        SELECTED[0])) and (( fx[CurrentPriceIndex]\n",
    "                         > SELECTED[1]) ^ PROPHET):\n",
    "                D_WIN += 1\n",
    "        \n",
    "        SELECTED = []\n",
    "\n",
    "print(f\"\"\"win = {WIN} \n",
    "lose = {LOSE}\n",
    "tie = {TIE}\n",
    "p_lose = {P_LOSE}\n",
    "d_win = {D_WIN}\"\"\")\n",
    "\n"
   ]
  }
 ],
 "metadata": {
  "kernelspec": {
   "display_name": "Python 3.10.7 64-bit",
   "language": "python",
   "name": "python3"
  },
  "language_info": {
   "codemirror_mode": {
    "name": "ipython",
    "version": 3
   },
   "file_extension": ".py",
   "mimetype": "text/x-python",
   "name": "python",
   "nbconvert_exporter": "python",
   "pygments_lexer": "ipython3",
   "version": "3.10.7"
  },
  "orig_nbformat": 4,
  "vscode": {
   "interpreter": {
    "hash": "369f2c481f4da34e4445cda3fffd2e751bd1c4d706f27375911949ba6bb62e1c"
   }
  }
 },
 "nbformat": 4,
 "nbformat_minor": 2
}
