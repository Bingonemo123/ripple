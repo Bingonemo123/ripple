{
 "cells": [
  {
   "cell_type": "code",
   "execution_count": 3,
   "metadata": {},
   "outputs": [
    {
     "name": "stdout",
     "output_type": "stream",
     "text": [
      "     v       vw       o       c       h       l              t  n\n",
      "0  400  22.0300  22.030  22.030  22.030  22.030  1674742320000  1\n",
      "1  679  22.0313  22.030  22.030  22.030  22.030  1674743400000  9\n",
      "2  221  22.1243  22.120  22.120  22.120  22.120  1674744000000  6\n",
      "3  232  22.0798  22.070  22.070  22.070  22.070  1674745080000  5\n",
      "4  155  22.1152  22.115  22.115  22.115  22.115  1674745260000  2\n"
     ]
    }
   ],
   "source": [
    "import requests\n",
    "import pandas as pd\n",
    "\n",
    "# API Key (get one at https://polygon.io)\n",
    "api_key = 'pJN3ekSv6pOm6zp2hnX9klzzxSqYjzZp'\n",
    "\n",
    "# Define the endpoint and parameters\n",
    "symbol = 'DJIA'\n",
    "url = f'https://api.polygon.io/v2/aggs/ticker/{symbol}/range/1/minute/2023-01-01/2023-12-31'\n",
    "params = {'apiKey': api_key}\n",
    "\n",
    "# Fetch data\n",
    "response = requests.get(url, params=params)\n",
    "data = response.json()\n",
    "\n",
    "# Convert to DataFrame\n",
    "df = pd.DataFrame(data['results'])\n",
    "\n",
    "# Save to CSV\n",
    "df.to_csv('aapl_1min.csv', index=False)\n",
    "\n",
    "print(df.head())"
   ]
  }
 ],
 "metadata": {
  "kernelspec": {
   "display_name": "Python 3",
   "language": "python",
   "name": "python3"
  },
  "language_info": {
   "codemirror_mode": {
    "name": "ipython",
    "version": 3
   },
   "file_extension": ".py",
   "mimetype": "text/x-python",
   "name": "python",
   "nbconvert_exporter": "python",
   "pygments_lexer": "ipython3",
   "version": "3.11.2"
  }
 },
 "nbformat": 4,
 "nbformat_minor": 2
}
