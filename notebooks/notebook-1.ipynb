{
 "cells": [
  {
   "cell_type": "code",
   "execution_count": 1,
   "metadata": {},
   "outputs": [],
   "source": [
    "from TheoryStatsMath.BruteForce import asymetric_random_walk_time_limit"
   ]
  },
  {
   "cell_type": "code",
   "execution_count": 2,
   "metadata": {},
   "outputs": [
    {
     "data": {
      "text/plain": [
       "(3866397, 2902037, 0.5712395215791423)"
      ]
     },
     "execution_count": 2,
     "metadata": {},
     "output_type": "execute_result"
    }
   ],
   "source": [
    "asymetric_random_walk_time_limit(5, 10, 0, 1.3, 2, 0.62, 10)"
   ]
  },
  {
   "cell_type": "markdown",
   "metadata": {},
   "source": [
    "asymetric_random_walk_time_limit(5, 10, 0, 1.3, 2, 0.62, 10)\n",
    "- (3825175, 2869352, 0.5713883893514807)\n",
    "- (3635804, 2725898, 0.5715143526056392)\n",
    "- (3359532, 2527159, 0.5706995661909212)\n",
    "- 26209346 19494228  0.5734638170747872 -- Rust 100 sec\n",
    "- 27027059 20115492  0.5733049745229103 -- Rust 100 sec\n",
    "-  2580093  1918893  0.5734832248866745 -- rust 100 sec\n",
    "-  2564247  1907288  0.5734601205178982   -- rust 10 sec"
   ]
  },
  {
   "cell_type": "code",
   "execution_count": 5,
   "metadata": {},
   "outputs": [
    {
     "data": {
      "text/plain": [
       "(22851344, 17148656, 40000000, 0.5712836)"
      ]
     },
     "execution_count": 5,
     "metadata": {},
     "output_type": "execute_result"
    }
   ],
   "source": [
    "from TheoryStatsMath.BruteForce import asymetric_random_walk_run_limit\n",
    "asymetric_random_walk_run_limit(5, 10, 0, 1.3, 2, 0.62, 40_000_000)"
   ]
  },
  {
   "cell_type": "markdown",
   "metadata": {},
   "source": [
    "asymetric_random_walk_run_limit(5, 10, 0, 1.3, 2, 0.62, 10_000_000)\n",
    "\n",
    "| UB hits | LB hits | total runs | percentage | run time |\n",
    "| -------- | ------| ------------| -----------| -------- |\n",
    "|5712589  | 4287411 | 10000000 | 0.5712589 | 38.5s      |\n",
    "| 5711720 | 4288280 | 10000000  |  0.571172 |  NA   |\n",
    "| 11427821| 8572179 | 20000000  |  0.57139105 | 52.9 |\n",
    "| 11424076| 8575924 | 20000000 |   0.5712038 | 48.9s |\n",
    "| 22851344 |  17148656 | 40000000|  0.5712836| 2m 13.6s |\n",
    "|22848303 | 17151697 | 40000000 | 0.571207575 | mp 1m 26,6s |\n",
    "|22845302| 17154698| 40000000| 0.57113255 |mp 1m 26,6s |\n",
    "|22846589| 17153411| 40000000| 0.571164725 |mp 1m 26,6s |\n",
    "|22853802| 17146198| 40000000| 0.57134505 |mp 1m 26,6s |\n",
    "|22846257| 17153743| 40000000| 0.571156425 |mp 1m 26,6s |\n",
    " |45693130| 34306870| 80000000| 0.571164125| mp 2m 46.3s |\n",
    "|45691407| 34308593| 80000000| 0.5711425875|mp 2m 46.3s |\n",
    "|45702063| 34297937| 80000000| 0.5712757875|mp 2m 46.3s |\n",
    "|45703958| 34296042| 80000000| 0.571299475|mp 2m 46.3s |\n",
    "|45702188| 34297812| 80000000| 0.57127735|mp 2m 46.3s |\n",
    "|91388376| 68611624| 160000000| 0.57117735| NA |\n",
    "|91404740| 68595260| 160000000| 0.571279625| NA |\n",
    "|91408934| 68591066| 160000000| 0.5713058375| NA |\n",
    "|91403747| 68596253| 160000000| 0.57127341875| NA |\n",
    "|91387688| 68612312| 160000000| 0.57117305| NA |\n",
    " |182800886| 137199114| 320000000| 0.57125276875| 11m 42.2s |\n",
    "|182815469| 137184531| 320000000| 0.571298340625| 11m 42.2s |\n",
    "|182810399| 137189601| 320000000| 0.571282496875| 11m 42.2s |\n",
    "|182804807| 137195193| 320000000| 0.571265021875|11m 42.2s |\n",
    "|182815106| 137184894| 320000000| 0.57129720625| 11m 42.2s |\n",
    "\n",
    "\n",
    "Rust results with f32\n",
    "\n",
    "RunResult { upper_hits: 183481958, lower_hits: 136518042, total_runs: 320000000, percentage: 0.5733811 }    \n",
    "RunResult { upper_hits: 183494105, lower_hits: 136505895, total_runs: 320000000, percentage: 0.5734191 }    \n",
    "RunResult { upper_hits: 183499699, lower_hits: 136500301, total_runs: 320000000, percentage: 0.57343656 }   \n",
    "RunResult { upper_hits: 183479505, lower_hits: 136520495, total_runs: 320000000, percentage: 0.57337344 }   \n",
    "RunResult { upper_hits: 183488958, lower_hits: 136511042, total_runs: 320000000, percentage: 0.573403 }\n",
    "\n",
    "Rust results with f64\n",
    "\n",
    "RunResult { upper_hits: 182794582, lower_hits: 137205418, total_runs: 320000000, percentage: 0.57123306875 }    \n",
    "RunResult { upper_hits: 182813460, lower_hits: 137186540, total_runs: 320000000, percentage: 0.5712920625 }     \n",
    "RunResult { upper_hits: 182813127, lower_hits: 137186873, total_runs: 320000000, percentage: 0.571291021875 }   \n",
    "RunResult { upper_hits: 182809316, lower_hits: 137190684, total_runs: 320000000, percentage: 0.5712791125 }     \n",
    "RunResult { upper_hits: 182796659, lower_hits: 137203341, total_runs: 320000000, percentage: 0.571239559375 }   "
   ]
  },
  {
   "cell_type": "code",
   "execution_count": 1,
   "metadata": {},
   "outputs": [
    {
     "name": "stdout",
     "output_type": "stream",
     "text": [
      "\t (151579972, 168420028, 320000000, 0.4736874125)\n",
      "\t (151566391, 168433609, 320000000, 0.473644971875)\n",
      "\t (151560400, 168439600, 320000000, 0.47362625)\n",
      "\t (151588731, 168411269, 320000000, 0.473714784375)\n",
      "\t (151580131, 168419869, 320000000, 0.473687909375)\n"
     ]
    }
   ],
   "source": [
    "import multiprocessing\n",
    "from TheoryStatsMath.BruteForce import asymetric_random_walk_run_limit\n",
    "\n",
    "\n",
    "PROCESSES = 5\n",
    "with multiprocessing.Pool(PROCESSES) as pool:\n",
    "    params = [(1, 3, 0, 1, 1, 0.6, 320_000_000) for x in range(PROCESSES)]\n",
    "    results = [pool.apply_async(asymetric_random_walk_run_limit, p) for p in params]\n",
    "\n",
    "    for r in results:\n",
    "        print('\\t', r.get())"
   ]
  }
 ],
 "metadata": {
  "kernelspec": {
   "display_name": "Python 3",
   "language": "python",
   "name": "python3"
  },
  "language_info": {
   "codemirror_mode": {
    "name": "ipython",
    "version": 3
   },
   "file_extension": ".py",
   "mimetype": "text/x-python",
   "name": "python",
   "nbconvert_exporter": "python",
   "pygments_lexer": "ipython3",
   "version": "3.11.4"
  },
  "orig_nbformat": 4
 },
 "nbformat": 4,
 "nbformat_minor": 2
}
