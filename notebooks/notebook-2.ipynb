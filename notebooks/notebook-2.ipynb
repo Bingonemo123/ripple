{
 "cells": [
  {
   "cell_type": "code",
   "execution_count": 1,
   "metadata": {},
   "outputs": [],
   "source": [
    "from TheoryStatsMath.BruteForce import asymetric_random_walk_precision_limit\n",
    "from TheoryStatsMath.BruteForce import test"
   ]
  },
  {
   "cell_type": "code",
   "execution_count": 109,
   "metadata": {},
   "outputs": [],
   "source": [
    "import numpy as np\n",
    "import math\n",
    "\n",
    "\n",
    "def asymetric_random_walk_with_ci(s: float, U: float, \n",
    "                                          L: float, i: float, \n",
    "                                          d: float, p: float, \n",
    "                                          stability_threshold=1e-3,\n",
    "                                          confidence_level=0.99):\n",
    "    \"\"\"\n",
    "   Running random walk simulation until percentage is in specific precision.\n",
    "\n",
    "   :param float s: starting point\n",
    "   :param float U: Upper limit\n",
    "   :param float L: Lowe limit\n",
    "   :param float i: increament step size\n",
    "   :param float d: decriment step size\n",
    "   :param float p: probability of increament\n",
    "   :param int: precs: precision to stop after floating point\n",
    "   \"\"\"\n",
    "    z = 2.576\n",
    "\n",
    "    upper_barrier_hits = 0\n",
    "    lower_barrier_hits = 0\n",
    "\n",
    "    while True:\n",
    "        current_position = s\n",
    "        while True:\n",
    "            current_position += np.random.choice([i, -d], p=[p, 1-p])\n",
    "\n",
    "            if current_position >= U:\n",
    "                upper_barrier_hits += 1\n",
    "                break\n",
    "            elif current_position <= L:\n",
    "                lower_barrier_hits += 1\n",
    "                break\n",
    "        \n",
    "        total_trials = upper_barrier_hits + lower_barrier_hits\n",
    "        if total_trials > 1000:\n",
    "            p_hat = upper_barrier_hits/ total_trials\n",
    "            margin_of_error = z * math.sqrt((p_hat * (1 - p_hat)) / total_trials)\n",
    "            # print(p_hat, margin_of_error, stability_threshold)\n",
    "            if margin_of_error < stability_threshold:\n",
    "                break\n",
    "\n",
    "    return p_hat"
   ]
  },
  {
   "cell_type": "code",
   "execution_count": 110,
   "metadata": {},
   "outputs": [
    {
     "data": {
      "text/plain": [
       "0.16951549263208826"
      ]
     },
     "execution_count": 110,
     "metadata": {},
     "output_type": "execute_result"
    }
   ],
   "source": [
    "starting_point = 22.247808\n",
    "upper_boundary = 30.571629\n",
    "lower_boundary = 21.91124\n",
    "increment = 3.983074\n",
    "decrement = 4.500463\n",
    "probability = 0.502347\n",
    "\n",
    "asymetric_random_walk_with_ci(starting_point,\n",
    "upper_boundary ,\n",
    "lower_boundary,\n",
    "increment,\n",
    "decrement,\n",
    "probability)"
   ]
  },
  {
   "cell_type": "code",
   "execution_count": 77,
   "metadata": {},
   "outputs": [],
   "source": [
    "import time\n",
    "\n",
    "def asymetric_random_walk_with_time(s: float, U: float, \n",
    "                                          L: float, i: float, \n",
    "                                          d: float, p: float, \n",
    "                                          runtime):\n",
    "    \"\"\"\n",
    "   Running random walk simulation until percentage is in specific precision.\n",
    "\n",
    "   :param float s: starting point\n",
    "   :param float U: Upper limit\n",
    "   :param float L: Lowe limit\n",
    "   :param float i: increament step size\n",
    "   :param float d: decriment step size\n",
    "   :param float p: probability of increament\n",
    "   :param int: precs: precision to stop after floating point\n",
    "   \"\"\"\n",
    "\n",
    "    upper_barrier_hits = 0\n",
    "    lower_barrier_hits = 0\n",
    "    st = time.time()\n",
    "    while time.time() - st < runtime:\n",
    "        current_position = s\n",
    "        while True:\n",
    "            current_position += np.random.choice([i, -d], p=[p, 1-p])\n",
    "\n",
    "            if current_position >= U:\n",
    "                upper_barrier_hits += 1\n",
    "                break\n",
    "            elif current_position <= L:\n",
    "                lower_barrier_hits += 1\n",
    "                break\n",
    "        \n",
    "    total_trials = upper_barrier_hits + lower_barrier_hits\n",
    "    p_hat = upper_barrier_hits/ total_trials\n",
    "            \n",
    "\n",
    "    return p_hat, total_trials"
   ]
  },
  {
   "cell_type": "code",
   "execution_count": 79,
   "metadata": {},
   "outputs": [
    {
     "data": {
      "text/plain": [
       "(0.03934786626589235, 102801)"
      ]
     },
     "execution_count": 79,
     "metadata": {},
     "output_type": "execute_result"
    }
   ],
   "source": [
    "asymetric_random_walk_with_time(14.8607,27.1852, 8.17544, 2.26917, 1.74059, 0.325786, 10)"
   ]
  },
  {
   "cell_type": "code",
   "execution_count": null,
   "metadata": {},
   "outputs": [],
   "source": [
    "from collections import deque\n",
    "import numpy as np\n",
    "\n",
    "\n",
    "def asymetric_random_walk_with_rolling_average(s: float, U: float, \n",
    "                                          L: float, i: float, \n",
    "                                          d: float, p: float, \n",
    "                                          chunk = 10, window_size=100):\n",
    "    \"\"\"\n",
    "   Running random walk simulation until percentage is in specific precision.\n",
    "\n",
    "   :param float s: starting point\n",
    "   :param float U: Upper limit\n",
    "   :param float L: Lowe limit\n",
    "   :param float i: increament step size\n",
    "   :param float d: decriment step size\n",
    "   :param float p: probability of increament\n",
    "   :param int: precs: precision to stop after floating point\n",
    "   \"\"\"\n",
    "\n",
    "    rolling_window = deque(maxlen=window_size)\n",
    "\n",
    "    while True:\n",
    "        upper_barrier_hits = 0\n",
    "        lower_barrier_hits = 0\n",
    "        for i in range(chunk):\n",
    "            current_position = s\n",
    "            while True:\n",
    "                current_position += np.random.choice([i, -d], p=[p, 1-p])\n",
    "\n",
    "                if current_position >= U:\n",
    "                    upper_barrier_hits += 1\n",
    "                    break\n",
    "                elif current_position <= L:\n",
    "                    lower_barrier_hits += 1\n",
    "                    break\n",
    "            \n",
    "        total_trials = upper_barrier_hits + lower_barrier_hits\n",
    "        p_hat = upper_barrier_hits/ total_trials\n",
    "        rolling_window.append(p_hat)\n",
    "                \n",
    "\n",
    "    return p_hat, total_trials"
   ]
  },
  {
   "cell_type": "code",
   "execution_count": 1,
   "metadata": {},
   "outputs": [
    {
     "data": {
      "text/plain": [
       "8.721804511278193e+26"
      ]
     },
     "execution_count": 1,
     "metadata": {},
     "output_type": "execute_result"
    }
   ],
   "source": [
    "number_of_sha_possibilities = 1.16 * (10 ** 77)\n",
    "number_of_atoms_on_the_earth = 1.33 * (10 ** 50)\n",
    "\n",
    "number_of_sha_possibilities / number_of_atoms_on_the_earth"
   ]
  },
  {
   "cell_type": "code",
   "execution_count": 5,
   "metadata": {},
   "outputs": [
    {
     "data": {
      "text/plain": [
       "2"
      ]
     },
     "execution_count": 5,
     "metadata": {},
     "output_type": "execute_result"
    }
   ],
   "source": [
    "import math\n",
    "\n",
    "math.gcd(3140, 7438)\n"
   ]
  },
  {
   "cell_type": "code",
   "execution_count": 84,
   "metadata": {},
   "outputs": [],
   "source": [
    "import pandas as pd\n",
    "from sklearn.model_selection import train_test_split\n",
    "\n",
    "\n",
    "# Step 1: Load the CSV file\n",
    "# Replace 'your_data.csv' with the path to your CSV file\n",
    "df = pd.read_csv(r\"C:\\Users\\MSI\\source\\repos\\2Bsamples\\2Bsamples\\2Bdata.csv\")\n",
    "\n",
    "# Step 2: Split the data into input features (X) and target output (y)\n",
    "X = df.iloc[:, :-1].values  # First 6 columns as input features\n",
    "y = df.iloc[:, -1].values   # Last column as the output/target\n",
    "\n",
    "# Step 3: Split the data into training and testing sets\n",
    "X_train, X_test, y_train, y_test = train_test_split(X, y, test_size=0.2, random_state=42)"
   ]
  },
  {
   "cell_type": "code",
   "execution_count": 87,
   "metadata": {},
   "outputs": [
    {
     "name": "stdout",
     "output_type": "stream",
     "text": [
      "Mean Squared Error: 0.024239660788274612\n",
      "R-squared: 0.8554155210548371\n",
      "Coefficients: [ 0.01873647 -0.00928131 -0.00980456  0.06874524 -0.06810132  1.18739869]\n",
      "Intercept: -0.09603624477601919\n"
     ]
    }
   ],
   "source": [
    "from sklearn.linear_model import LinearRegression\n",
    "from sklearn.metrics import mean_squared_error, r2_score\n",
    "\n",
    "model = LinearRegression()\n",
    "model.fit(X_train, y_train)\n",
    "\n",
    "# Step 5: Predict using the model\n",
    "y_pred = model.predict(X_test)\n",
    "\n",
    "# Step 6: Evaluate the model performance\n",
    "mse = mean_squared_error(y_test, y_pred)\n",
    "r2 = r2_score(y_test, y_pred)\n",
    "\n",
    "print(f\"Mean Squared Error: {mse}\")\n",
    "print(f\"R-squared: {r2}\")\n",
    "\n",
    "# Optionally, print model coefficients and intercept\n",
    "print(f\"Coefficients: {model.coef_}\")\n",
    "print(f\"Intercept: {model.intercept_}\")"
   ]
  },
  {
   "cell_type": "code",
   "execution_count": 89,
   "metadata": {},
   "outputs": [
    {
     "data": {
      "text/plain": [
       "array([0.49917623])"
      ]
     },
     "execution_count": 89,
     "metadata": {},
     "output_type": "execute_result"
    }
   ],
   "source": [
    "model.predict([[5.0, 10.0, 0.0, 1.0, 1.0, 0.5]])"
   ]
  },
  {
   "cell_type": "markdown",
   "metadata": {},
   "source": [
    "Random numbers: x = 20.1807, y = 21.8991, z = 29.2009\n",
    "Random steps 2.76376 and 4.41717\n",
    "Random percentage 0.533935\n",
    "Total trials 1125257\n",
    "Resulting Percentage 0.216406"
   ]
  },
  {
   "cell_type": "code",
   "execution_count": 92,
   "metadata": {},
   "outputs": [
    {
     "data": {
      "text/plain": [
       "array([0.17365637])"
      ]
     },
     "execution_count": 92,
     "metadata": {},
     "output_type": "execute_result"
    }
   ],
   "source": [
    "model.predict([[21.8991, 50.2009, 20.1807, 2.76376, 4.41717,  0.533935]])"
   ]
  },
  {
   "cell_type": "code",
   "execution_count": 106,
   "metadata": {},
   "outputs": [
    {
     "data": {
      "text/plain": [
       "array([[22.392311],\n",
       "       [18.701168],\n",
       "       [26.459783],\n",
       "       [ 4.907457],\n",
       "       [ 6.957941],\n",
       "       [ 3.183869],\n",
       "       [28.154766],\n",
       "       [16.758873],\n",
       "       [16.308209],\n",
       "       [21.903685],\n",
       "       [ 6.61004 ],\n",
       "       [22.247808],\n",
       "       [ 3.159989],\n",
       "       [ 1.156211],\n",
       "       [17.004557],\n",
       "       [ 1.289727],\n",
       "       [ 6.351093],\n",
       "       [ 8.703828],\n",
       "       [17.066543],\n",
       "       [ 5.983162]])"
      ]
     },
     "execution_count": 106,
     "metadata": {},
     "output_type": "execute_result"
    }
   ],
   "source": [
    "df = pd.read_csv(r\"C:\\Users\\MSI\\source\\repos\\2Bsamples\\2Bsamples\\2Bdata.csv\")\n",
    "\n",
    "X = df.loc[df.iloc[:, 7] == 1, df.columns[0]].values.reshape(-1, 1)\n",
    "\n",
    "y = df.loc[df.iloc[:, 7] == 1, df.columns[1:3]]\n",
    "\n",
    "X_train, X_test, y_train, y_test = train_test_split(X, y, test_size=0.2, random_state=42)\n",
    "\n",
    "X_train"
   ]
  },
  {
   "cell_type": "code",
   "execution_count": 107,
   "metadata": {},
   "outputs": [
    {
     "name": "stdout",
     "output_type": "stream",
     "text": [
      "Mean Squared Error: 10.67325547082183\n",
      "R-squared: 0.7254513888721971\n",
      "Coefficients: [[0.55281695]\n",
      " [1.01139138]]\n",
      "Intercept: [17.85461569 -0.76335827]\n"
     ]
    }
   ],
   "source": [
    "modelEnv = LinearRegression()\n",
    "modelEnv.fit(X_train, y_train)\n",
    "\n",
    "# Step 5: Predict using the model\n",
    "y_pred = modelEnv.predict(X_test)\n",
    "\n",
    "# Step 6: Evaluate the model performance\n",
    "mse = mean_squared_error(y_test, y_pred)\n",
    "r2 = r2_score(y_test, y_pred)\n",
    "\n",
    "print(f\"Mean Squared Error: {mse}\")\n",
    "print(f\"R-squared: {r2}\")\n",
    "\n",
    "# Optionally, print model coefficients and intercept\n",
    "print(f\"Coefficients: {modelEnv.coef_}\")\n",
    "print(f\"Intercept: {modelEnv.intercept_}\")"
   ]
  },
  {
   "cell_type": "code",
   "execution_count": 108,
   "metadata": {},
   "outputs": [
    {
     "data": {
      "text/plain": [
       "array([[18.40743264,  0.24803311]])"
      ]
     },
     "execution_count": 108,
     "metadata": {},
     "output_type": "execute_result"
    }
   ],
   "source": [
    "modelEnv.predict([[1]])"
   ]
  }
 ],
 "metadata": {
  "kernelspec": {
   "display_name": "Python 3",
   "language": "python",
   "name": "python3"
  },
  "language_info": {
   "codemirror_mode": {
    "name": "ipython",
    "version": 3
   },
   "file_extension": ".py",
   "mimetype": "text/x-python",
   "name": "python",
   "nbconvert_exporter": "python",
   "pygments_lexer": "ipython3",
   "version": "3.11.2"
  }
 },
 "nbformat": 4,
 "nbformat_minor": 2
}
